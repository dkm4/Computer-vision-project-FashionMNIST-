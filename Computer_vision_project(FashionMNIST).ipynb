{
  "nbformat": 4,
  "nbformat_minor": 0,
  "metadata": {
    "colab": {
      "provenance": [],
      "include_colab_link": true
    },
    "kernelspec": {
      "name": "python3",
      "display_name": "Python 3"
    },
    "language_info": {
      "name": "python"
    },
    "widgets": {
      "application/vnd.jupyter.widget-state+json": {
        "c4b97024f43549b397f57a16433607ae": {
          "model_module": "@jupyter-widgets/controls",
          "model_name": "HBoxModel",
          "model_module_version": "1.5.0",
          "state": {
            "_dom_classes": [],
            "_model_module": "@jupyter-widgets/controls",
            "_model_module_version": "1.5.0",
            "_model_name": "HBoxModel",
            "_view_count": null,
            "_view_module": "@jupyter-widgets/controls",
            "_view_module_version": "1.5.0",
            "_view_name": "HBoxView",
            "box_style": "",
            "children": [
              "IPY_MODEL_6ae8cf2cafd547b6a21820fe1cbb9bcd",
              "IPY_MODEL_3859099f14824eea87450b3fd0680cb6",
              "IPY_MODEL_e4579ba887444e61af97221e966ce145"
            ],
            "layout": "IPY_MODEL_16970128efa0485dbfb5953b0f6010f7"
          }
        },
        "6ae8cf2cafd547b6a21820fe1cbb9bcd": {
          "model_module": "@jupyter-widgets/controls",
          "model_name": "HTMLModel",
          "model_module_version": "1.5.0",
          "state": {
            "_dom_classes": [],
            "_model_module": "@jupyter-widgets/controls",
            "_model_module_version": "1.5.0",
            "_model_name": "HTMLModel",
            "_view_count": null,
            "_view_module": "@jupyter-widgets/controls",
            "_view_module_version": "1.5.0",
            "_view_name": "HTMLView",
            "description": "",
            "description_tooltip": null,
            "layout": "IPY_MODEL_933ab6ce65a0485991db4623265b5c1f",
            "placeholder": "​",
            "style": "IPY_MODEL_76a70c64b2f3413c9715c87fc1fd1948",
            "value": "100%"
          }
        },
        "3859099f14824eea87450b3fd0680cb6": {
          "model_module": "@jupyter-widgets/controls",
          "model_name": "FloatProgressModel",
          "model_module_version": "1.5.0",
          "state": {
            "_dom_classes": [],
            "_model_module": "@jupyter-widgets/controls",
            "_model_module_version": "1.5.0",
            "_model_name": "FloatProgressModel",
            "_view_count": null,
            "_view_module": "@jupyter-widgets/controls",
            "_view_module_version": "1.5.0",
            "_view_name": "ProgressView",
            "bar_style": "success",
            "description": "",
            "description_tooltip": null,
            "layout": "IPY_MODEL_9334979b30a94d499ad092eb4ff5f16e",
            "max": 50,
            "min": 0,
            "orientation": "horizontal",
            "style": "IPY_MODEL_83cc2207b3784107b5c72de33c26e00f",
            "value": 50
          }
        },
        "e4579ba887444e61af97221e966ce145": {
          "model_module": "@jupyter-widgets/controls",
          "model_name": "HTMLModel",
          "model_module_version": "1.5.0",
          "state": {
            "_dom_classes": [],
            "_model_module": "@jupyter-widgets/controls",
            "_model_module_version": "1.5.0",
            "_model_name": "HTMLModel",
            "_view_count": null,
            "_view_module": "@jupyter-widgets/controls",
            "_view_module_version": "1.5.0",
            "_view_name": "HTMLView",
            "description": "",
            "description_tooltip": null,
            "layout": "IPY_MODEL_850a5159e40c419695de979efeda2622",
            "placeholder": "​",
            "style": "IPY_MODEL_79760c7208a84dac9c175608b2f8e4fa",
            "value": " 50/50 [11:04&lt;00:00, 13.60s/it]"
          }
        },
        "16970128efa0485dbfb5953b0f6010f7": {
          "model_module": "@jupyter-widgets/base",
          "model_name": "LayoutModel",
          "model_module_version": "1.2.0",
          "state": {
            "_model_module": "@jupyter-widgets/base",
            "_model_module_version": "1.2.0",
            "_model_name": "LayoutModel",
            "_view_count": null,
            "_view_module": "@jupyter-widgets/base",
            "_view_module_version": "1.2.0",
            "_view_name": "LayoutView",
            "align_content": null,
            "align_items": null,
            "align_self": null,
            "border": null,
            "bottom": null,
            "display": null,
            "flex": null,
            "flex_flow": null,
            "grid_area": null,
            "grid_auto_columns": null,
            "grid_auto_flow": null,
            "grid_auto_rows": null,
            "grid_column": null,
            "grid_gap": null,
            "grid_row": null,
            "grid_template_areas": null,
            "grid_template_columns": null,
            "grid_template_rows": null,
            "height": null,
            "justify_content": null,
            "justify_items": null,
            "left": null,
            "margin": null,
            "max_height": null,
            "max_width": null,
            "min_height": null,
            "min_width": null,
            "object_fit": null,
            "object_position": null,
            "order": null,
            "overflow": null,
            "overflow_x": null,
            "overflow_y": null,
            "padding": null,
            "right": null,
            "top": null,
            "visibility": null,
            "width": null
          }
        },
        "933ab6ce65a0485991db4623265b5c1f": {
          "model_module": "@jupyter-widgets/base",
          "model_name": "LayoutModel",
          "model_module_version": "1.2.0",
          "state": {
            "_model_module": "@jupyter-widgets/base",
            "_model_module_version": "1.2.0",
            "_model_name": "LayoutModel",
            "_view_count": null,
            "_view_module": "@jupyter-widgets/base",
            "_view_module_version": "1.2.0",
            "_view_name": "LayoutView",
            "align_content": null,
            "align_items": null,
            "align_self": null,
            "border": null,
            "bottom": null,
            "display": null,
            "flex": null,
            "flex_flow": null,
            "grid_area": null,
            "grid_auto_columns": null,
            "grid_auto_flow": null,
            "grid_auto_rows": null,
            "grid_column": null,
            "grid_gap": null,
            "grid_row": null,
            "grid_template_areas": null,
            "grid_template_columns": null,
            "grid_template_rows": null,
            "height": null,
            "justify_content": null,
            "justify_items": null,
            "left": null,
            "margin": null,
            "max_height": null,
            "max_width": null,
            "min_height": null,
            "min_width": null,
            "object_fit": null,
            "object_position": null,
            "order": null,
            "overflow": null,
            "overflow_x": null,
            "overflow_y": null,
            "padding": null,
            "right": null,
            "top": null,
            "visibility": null,
            "width": null
          }
        },
        "76a70c64b2f3413c9715c87fc1fd1948": {
          "model_module": "@jupyter-widgets/controls",
          "model_name": "DescriptionStyleModel",
          "model_module_version": "1.5.0",
          "state": {
            "_model_module": "@jupyter-widgets/controls",
            "_model_module_version": "1.5.0",
            "_model_name": "DescriptionStyleModel",
            "_view_count": null,
            "_view_module": "@jupyter-widgets/base",
            "_view_module_version": "1.2.0",
            "_view_name": "StyleView",
            "description_width": ""
          }
        },
        "9334979b30a94d499ad092eb4ff5f16e": {
          "model_module": "@jupyter-widgets/base",
          "model_name": "LayoutModel",
          "model_module_version": "1.2.0",
          "state": {
            "_model_module": "@jupyter-widgets/base",
            "_model_module_version": "1.2.0",
            "_model_name": "LayoutModel",
            "_view_count": null,
            "_view_module": "@jupyter-widgets/base",
            "_view_module_version": "1.2.0",
            "_view_name": "LayoutView",
            "align_content": null,
            "align_items": null,
            "align_self": null,
            "border": null,
            "bottom": null,
            "display": null,
            "flex": null,
            "flex_flow": null,
            "grid_area": null,
            "grid_auto_columns": null,
            "grid_auto_flow": null,
            "grid_auto_rows": null,
            "grid_column": null,
            "grid_gap": null,
            "grid_row": null,
            "grid_template_areas": null,
            "grid_template_columns": null,
            "grid_template_rows": null,
            "height": null,
            "justify_content": null,
            "justify_items": null,
            "left": null,
            "margin": null,
            "max_height": null,
            "max_width": null,
            "min_height": null,
            "min_width": null,
            "object_fit": null,
            "object_position": null,
            "order": null,
            "overflow": null,
            "overflow_x": null,
            "overflow_y": null,
            "padding": null,
            "right": null,
            "top": null,
            "visibility": null,
            "width": null
          }
        },
        "83cc2207b3784107b5c72de33c26e00f": {
          "model_module": "@jupyter-widgets/controls",
          "model_name": "ProgressStyleModel",
          "model_module_version": "1.5.0",
          "state": {
            "_model_module": "@jupyter-widgets/controls",
            "_model_module_version": "1.5.0",
            "_model_name": "ProgressStyleModel",
            "_view_count": null,
            "_view_module": "@jupyter-widgets/base",
            "_view_module_version": "1.2.0",
            "_view_name": "StyleView",
            "bar_color": null,
            "description_width": ""
          }
        },
        "850a5159e40c419695de979efeda2622": {
          "model_module": "@jupyter-widgets/base",
          "model_name": "LayoutModel",
          "model_module_version": "1.2.0",
          "state": {
            "_model_module": "@jupyter-widgets/base",
            "_model_module_version": "1.2.0",
            "_model_name": "LayoutModel",
            "_view_count": null,
            "_view_module": "@jupyter-widgets/base",
            "_view_module_version": "1.2.0",
            "_view_name": "LayoutView",
            "align_content": null,
            "align_items": null,
            "align_self": null,
            "border": null,
            "bottom": null,
            "display": null,
            "flex": null,
            "flex_flow": null,
            "grid_area": null,
            "grid_auto_columns": null,
            "grid_auto_flow": null,
            "grid_auto_rows": null,
            "grid_column": null,
            "grid_gap": null,
            "grid_row": null,
            "grid_template_areas": null,
            "grid_template_columns": null,
            "grid_template_rows": null,
            "height": null,
            "justify_content": null,
            "justify_items": null,
            "left": null,
            "margin": null,
            "max_height": null,
            "max_width": null,
            "min_height": null,
            "min_width": null,
            "object_fit": null,
            "object_position": null,
            "order": null,
            "overflow": null,
            "overflow_x": null,
            "overflow_y": null,
            "padding": null,
            "right": null,
            "top": null,
            "visibility": null,
            "width": null
          }
        },
        "79760c7208a84dac9c175608b2f8e4fa": {
          "model_module": "@jupyter-widgets/controls",
          "model_name": "DescriptionStyleModel",
          "model_module_version": "1.5.0",
          "state": {
            "_model_module": "@jupyter-widgets/controls",
            "_model_module_version": "1.5.0",
            "_model_name": "DescriptionStyleModel",
            "_view_count": null,
            "_view_module": "@jupyter-widgets/base",
            "_view_module_version": "1.2.0",
            "_view_name": "StyleView",
            "description_width": ""
          }
        }
      }
    }
  },
  "cells": [
    {
      "cell_type": "markdown",
      "metadata": {
        "id": "view-in-github",
        "colab_type": "text"
      },
      "source": [
        "<a href=\"https://colab.research.google.com/github/dkm4/Computer-vision-project-FashionMNIST-/blob/main/Computer_vision_project(FashionMNIST).ipynb\" target=\"_parent\"><img src=\"https://colab.research.google.com/assets/colab-badge.svg\" alt=\"Open In Colab\"/></a>"
      ]
    },
    {
      "cell_type": "markdown",
      "source": [
        "# Import the relevant libraries"
      ],
      "metadata": {
        "id": "FpsiO26Cbg7h"
      }
    },
    {
      "cell_type": "code",
      "source": [
        "import numpy as np\n",
        "import pandas as pd\n",
        "import matplotlib.pyplot as plt\n",
        "\n",
        "import torch\n",
        "import torch.nn as nn\n",
        "import torchvision\n",
        "from torchvision import transforms\n",
        "from torchvision.transforms import ToTensor\n",
        "from torch.utils.data import Dataset\n",
        "from torch.utils.data import DataLoader\n",
        "\n",
        "from torchvision import datasets\n",
        "print(torch.__version__)\n",
        "print(torchvision.__version__)"
      ],
      "metadata": {
        "colab": {
          "base_uri": "https://localhost:8080/"
        },
        "id": "QmqT3TZ1bjDp",
        "outputId": "1abe0396-bfcb-4c94-ba5e-1e3ea17a5452"
      },
      "execution_count": 7,
      "outputs": [
        {
          "output_type": "stream",
          "name": "stdout",
          "text": [
            "2.2.1+cu121\n",
            "0.17.1+cu121\n"
          ]
        }
      ]
    },
    {
      "cell_type": "markdown",
      "source": [
        "# Download the Dataset"
      ],
      "metadata": {
        "id": "R153CeWAdhPc"
      }
    },
    {
      "cell_type": "code",
      "source": [
        "train_dataset = datasets.FashionMNIST(root=\"data\", train=True, download=True, transform=ToTensor(), target_transform=None)\n",
        "test_dataset  = datasets.FashionMNIST(root=\"data\", train=False, download=True, transform=ToTensor(), target_transform=None)"
      ],
      "metadata": {
        "id": "Rzs9G2KfcmNE"
      },
      "execution_count": 8,
      "outputs": []
    },
    {
      "cell_type": "markdown",
      "source": [
        "# Let's look at what exactly we got"
      ],
      "metadata": {
        "id": "sLkTbHC5dnGb"
      }
    },
    {
      "cell_type": "code",
      "source": [
        "print(f\"Type of training dataset:{type(train_dataset)}, length of dataset:{len(train_dataset)}\")\n",
        "print(f\"Type of testing dataset:{type(test_dataset)}, length of dataset:{len(test_dataset)}\")"
      ],
      "metadata": {
        "colab": {
          "base_uri": "https://localhost:8080/"
        },
        "id": "YCr7tL9Pdp17",
        "outputId": "899bd959-7961-41a0-a045-6ca16fe3af9c"
      },
      "execution_count": 9,
      "outputs": [
        {
          "output_type": "stream",
          "name": "stdout",
          "text": [
            "Type of training dataset:<class 'torchvision.datasets.mnist.FashionMNIST'>, length of dataset:60000\n",
            "Type of testing dataset:<class 'torchvision.datasets.mnist.FashionMNIST'>, length of dataset:10000\n"
          ]
        }
      ]
    },
    {
      "cell_type": "code",
      "source": [
        "image, label = train_dataset[0]\n",
        "print(f\"{type(image)}, {image.shape}\")\n",
        "print(f\"{type(label)}, my label is {label}\")"
      ],
      "metadata": {
        "colab": {
          "base_uri": "https://localhost:8080/"
        },
        "id": "fs2J4z93eNyk",
        "outputId": "cb3c1331-83a3-47ac-bf8b-1538dbe090aa"
      },
      "execution_count": 10,
      "outputs": [
        {
          "output_type": "stream",
          "name": "stdout",
          "text": [
            "<class 'torch.Tensor'>, torch.Size([1, 28, 28])\n",
            "<class 'int'>, my label is 9\n"
          ]
        }
      ]
    },
    {
      "cell_type": "code",
      "source": [
        "class_names = train_dataset.classes\n",
        "print(\"My class names are \")\n",
        "print(class_names)"
      ],
      "metadata": {
        "colab": {
          "base_uri": "https://localhost:8080/"
        },
        "id": "9OtLYRorex7V",
        "outputId": "e1d10b74-4b73-4ee6-8e03-5fe13776b531"
      },
      "execution_count": 11,
      "outputs": [
        {
          "output_type": "stream",
          "name": "stdout",
          "text": [
            "My class names are \n",
            "['T-shirt/top', 'Trouser', 'Pullover', 'Dress', 'Coat', 'Sandal', 'Shirt', 'Sneaker', 'Bag', 'Ankle boot']\n"
          ]
        }
      ]
    },
    {
      "cell_type": "markdown",
      "source": [
        "# Plot one image"
      ],
      "metadata": {
        "id": "ih_RK2rYf-Jt"
      }
    },
    {
      "cell_type": "code",
      "source": [
        "plt.imshow(image.squeeze())\n",
        "plt.title(class_names[label])"
      ],
      "metadata": {
        "colab": {
          "base_uri": "https://localhost:8080/",
          "height": 469
        },
        "id": "gh_QTZuugG8t",
        "outputId": "de61dd91-3b8c-4574-a0eb-b4cec132830a"
      },
      "execution_count": 12,
      "outputs": [
        {
          "output_type": "execute_result",
          "data": {
            "text/plain": [
              "Text(0.5, 1.0, 'Ankle boot')"
            ]
          },
          "metadata": {},
          "execution_count": 12
        },
        {
          "output_type": "display_data",
          "data": {
            "text/plain": [
              "<Figure size 640x480 with 1 Axes>"
            ],
            "image/png": "[encoded data removed]"
          },
          "metadata": {}
        }
      ]
    },
    {
      "cell_type": "code",
      "source": [
        "fig = plt.figure(figsize=(1, 1))\n",
        "plt.imshow(image.squeeze(), cmap=\"gray\")\n",
        "plt.title(class_names[label])"
      ],
      "metadata": {
        "colab": {
          "base_uri": "https://localhost:8080/",
          "height": 177
        },
        "id": "6Dl1JCBsgTPc",
        "outputId": "c0f5b83e-6c43-4a60-e1f6-5881a62f774b"
      },
      "execution_count": 13,
      "outputs": [
        {
          "output_type": "execute_result",
          "data": {
            "text/plain": [
              "Text(0.5, 1.0, 'Ankle boot')"
            ]
          },
          "metadata": {},
          "execution_count": 13
        },
        {
          "output_type": "display_data",
          "data": {
            "text/plain": [
              "<Figure size 100x100 with 1 Axes>"
            ],
            "image/png": "[encoded data removed]"
          },
          "metadata": {}
        }
      ]
    },
    {
      "cell_type": "code",
      "source": [
        "random_idx = torch.randint(0, len(train_dataset), size=[1]).cpu().item()\n",
        "print(random_idx)"
      ],
      "metadata": {
        "colab": {
          "base_uri": "https://localhost:8080/"
        },
        "id": "7Rc5lkgJg7Zd",
        "outputId": "0da19f2f-17d9-4d90-e10b-42a820bfded5"
      },
      "execution_count": 14,
      "outputs": [
        {
          "output_type": "stream",
          "name": "stdout",
          "text": [
            "41285\n"
          ]
        }
      ]
    },
    {
      "cell_type": "markdown",
      "source": [
        "# Let's plot many images"
      ],
      "metadata": {
        "id": "dcYpBNYmgeDE"
      }
    },
    {
      "cell_type": "code",
      "source": [
        "fig = plt.figure(figsize=(9, 9))\n",
        "rows, cols = 5, 5\n",
        "for i in range(1, rows*cols+1):\n",
        "  random_idx = torch.randint(0, len(train_dataset), size=[1]).item()\n",
        "  img, label = train_dataset[random_idx]\n",
        "  fig.add_subplot(rows, cols, i)\n",
        "  plt.imshow(img.squeeze(), cmap=\"gray\")\n",
        "  plt.title(class_names[label])\n",
        "  plt.axis(False)\n"
      ],
      "metadata": {
        "colab": {
          "base_uri": "https://localhost:8080/",
          "height": 752
        },
        "id": "jQQMUOWmghE0",
        "outputId": "aa564ec8-ff5e-47d6-d1a7-287a64555866"
      },
      "execution_count": 15,
      "outputs": [
        {
          "output_type": "display_data",
          "data": {
            "text/plain": [
              "<Figure size 900x900 with 25 Axes>"
            ],
            "image/png": "[encoded data removed]"
          },
          "metadata": {}
        }
      ]
    },
    {
      "cell_type": "markdown",
      "source": [
        "# Create Dataloaders"
      ],
      "metadata": {
        "id": "_7208xSmhzy_"
      }
    },
    {
      "cell_type": "code",
      "source": [
        "BATCH_SIZE = 32\n",
        "training_dataloader = DataLoader(train_dataset, batch_size=BATCH_SIZE, shuffle=True)\n",
        "testing_dataloader  = DataLoader(test_dataset, batch_size=BATCH_SIZE, shuffle=False)"
      ],
      "metadata": {
        "id": "npStJ-j0h2Lc"
      },
      "execution_count": 16,
      "outputs": []
    },
    {
      "cell_type": "markdown",
      "source": [
        "# Visualize it"
      ],
      "metadata": {
        "id": "zwt7ai1AiDdV"
      }
    },
    {
      "cell_type": "code",
      "source": [
        "print(f\"Length of my dataloader:{len(training_dataloader)}\")\n",
        "print(f\"Length of my dataloader:{len(testing_dataloader)}\")"
      ],
      "metadata": {
        "colab": {
          "base_uri": "https://localhost:8080/"
        },
        "id": "pyQRe9DwiE_F",
        "outputId": "f9546599-c43d-45ed-fbbd-d16fd4cc9cdc"
      },
      "execution_count": 17,
      "outputs": [
        {
          "output_type": "stream",
          "name": "stdout",
          "text": [
            "Length of my dataloader:1875\n",
            "Length of my dataloader:313\n"
          ]
        }
      ]
    },
    {
      "cell_type": "code",
      "source": [
        "312*32+16"
      ],
      "metadata": {
        "colab": {
          "base_uri": "https://localhost:8080/"
        },
        "id": "C9MFgpESif_l",
        "outputId": "901205ff-b7a0-415f-ec14-b7e260c480eb"
      },
      "execution_count": 18,
      "outputs": [
        {
          "output_type": "execute_result",
          "data": {
            "text/plain": [
              "10000"
            ]
          },
          "metadata": {},
          "execution_count": 18
        }
      ]
    },
    {
      "cell_type": "code",
      "source": [
        "1875*32"
      ],
      "metadata": {
        "colab": {
          "base_uri": "https://localhost:8080/"
        },
        "id": "GY7XxBiciQ_d",
        "outputId": "a78d9699-6d4d-430d-a8ba-053e52ff8425"
      },
      "execution_count": 19,
      "outputs": [
        {
          "output_type": "execute_result",
          "data": {
            "text/plain": [
              "60000"
            ]
          },
          "metadata": {},
          "execution_count": 19
        }
      ]
    },
    {
      "cell_type": "code",
      "source": [
        "for batch_idx, i in enumerate(testing_dataloader):\n",
        "  print(f\"batch:{batch_idx+1} and number of points are {len(i[0])}\")"
      ],
      "metadata": {
        "colab": {
          "base_uri": "https://localhost:8080/"
        },
        "id": "NIKvVdABino2",
        "outputId": "f82485ca-d5bc-4b2a-860b-205dc21bc84b"
      },
      "execution_count": 20,
      "outputs": [
        {
          "output_type": "stream",
          "name": "stdout",
          "text": [
            "batch:1 and number of points are 32\n",
            "batch:2 and number of points are 32\n",
            "batch:3 and number of points are 32\n",
            "batch:4 and number of points are 32\n",
            "batch:5 and number of points are 32\n",
            "batch:6 and number of points are 32\n",
            "batch:7 and number of points are 32\n",
            "batch:8 and number of points are 32\n",
            "batch:9 and number of points are 32\n",
            "batch:10 and number of points are 32\n",
            "batch:11 and number of points are 32\n",
            "batch:12 and number of points are 32\n",
            "batch:13 and number of points are 32\n",
            "batch:14 and number of points are 32\n",
            "batch:15 and number of points are 32\n",
            "batch:16 and number of points are 32\n",
            "batch:17 and number of points are 32\n",
            "batch:18 and number of points are 32\n",
            "batch:19 and number of points are 32\n",
            "batch:20 and number of points are 32\n",
            "batch:21 and number of points are 32\n",
            "batch:22 and number of points are 32\n",
            "batch:23 and number of points are 32\n",
            "batch:24 and number of points are 32\n",
            "batch:25 and number of points are 32\n",
            "batch:26 and number of points are 32\n",
            "batch:27 and number of points are 32\n",
            "batch:28 and number of points are 32\n",
            "batch:29 and number of points are 32\n",
            "batch:30 and number of points are 32\n",
            "batch:31 and number of points are 32\n",
            "batch:32 and number of points are 32\n",
            "batch:33 and number of points are 32\n",
            "batch:34 and number of points are 32\n",
            "batch:35 and number of points are 32\n",
            "batch:36 and number of points are 32\n",
            "batch:37 and number of points are 32\n",
            "batch:38 and number of points are 32\n",
            "batch:39 and number of points are 32\n",
            "batch:40 and number of points are 32\n",
            "batch:41 and number of points are 32\n",
            "batch:42 and number of points are 32\n",
            "batch:43 and number of points are 32\n",
            "batch:44 and number of points are 32\n",
            "batch:45 and number of points are 32\n",
            "batch:46 and number of points are 32\n",
            "batch:47 and number of points are 32\n",
            "batch:48 and number of points are 32\n",
            "batch:49 and number of points are 32\n",
            "batch:50 and number of points are 32\n",
            "batch:51 and number of points are 32\n",
            "batch:52 and number of points are 32\n",
            "batch:53 and number of points are 32\n",
            "batch:54 and number of points are 32\n",
            "batch:55 and number of points are 32\n",
            "batch:56 and number of points are 32\n",
            "batch:57 and number of points are 32\n",
            "batch:58 and number of points are 32\n",
            "batch:59 and number of points are 32\n",
            "batch:60 and number of points are 32\n",
            "batch:61 and number of points are 32\n",
            "batch:62 and number of points are 32\n",
            "batch:63 and number of points are 32\n",
            "batch:64 and number of points are 32\n",
            "batch:65 and number of points are 32\n",
            "batch:66 and number of points are 32\n",
            "batch:67 and number of points are 32\n",
            "batch:68 and number of points are 32\n",
            "batch:69 and number of points are 32\n",
            "batch:70 and number of points are 32\n",
            "batch:71 and number of points are 32\n",
            "batch:72 and number of points are 32\n",
            "batch:73 and number of points are 32\n",
            "batch:74 and number of points are 32\n",
            "batch:75 and number of points are 32\n",
            "batch:76 and number of points are 32\n",
            "batch:77 and number of points are 32\n",
            "batch:78 and number of points are 32\n",
            "batch:79 and number of points are 32\n",
            "batch:80 and number of points are 32\n",
            "batch:81 and number of points are 32\n",
            "batch:82 and number of points are 32\n",
            "batch:83 and number of points are 32\n",
            "batch:84 and number of points are 32\n",
            "batch:85 and number of points are 32\n",
            "batch:86 and number of points are 32\n",
            "batch:87 and number of points are 32\n",
            "batch:88 and number of points are 32\n",
            "batch:89 and number of points are 32\n",
            "batch:90 and number of points are 32\n",
            "batch:91 and number of points are 32\n",
            "batch:92 and number of points are 32\n",
            "batch:93 and number of points are 32\n",
            "batch:94 and number of points are 32\n",
            "batch:95 and number of points are 32\n",
            "batch:96 and number of points are 32\n",
            "batch:97 and number of points are 32\n",
            "batch:98 and number of points are 32\n",
            "batch:99 and number of points are 32\n",
            "batch:100 and number of points are 32\n",
            "batch:101 and number of points are 32\n",
            "batch:102 and number of points are 32\n",
            "batch:103 and number of points are 32\n",
            "batch:104 and number of points are 32\n",
            "batch:105 and number of points are 32\n",
            "batch:106 and number of points are 32\n",
            "batch:107 and number of points are 32\n",
            "batch:108 and number of points are 32\n",
            "batch:109 and number of points are 32\n",
            "batch:110 and number of points are 32\n",
            "batch:111 and number of points are 32\n",
            "batch:112 and number of points are 32\n",
            "batch:113 and number of points are 32\n",
            "batch:114 and number of points are 32\n",
            "batch:115 and number of points are 32\n",
            "batch:116 and number of points are 32\n",
            "batch:117 and number of points are 32\n",
            "batch:118 and number of points are 32\n",
            "batch:119 and number of points are 32\n",
            "batch:120 and number of points are 32\n",
            "batch:121 and number of points are 32\n",
            "batch:122 and number of points are 32\n",
            "batch:123 and number of points are 32\n",
            "batch:124 and number of points are 32\n",
            "batch:125 and number of points are 32\n",
            "batch:126 and number of points are 32\n",
            "batch:127 and number of points are 32\n",
            "batch:128 and number of points are 32\n",
            "batch:129 and number of points are 32\n",
            "batch:130 and number of points are 32\n",
            "batch:131 and number of points are 32\n",
            "batch:132 and number of points are 32\n",
            "batch:133 and number of points are 32\n",
            "batch:134 and number of points are 32\n",
            "batch:135 and number of points are 32\n",
            "batch:136 and number of points are 32\n",
            "batch:137 and number of points are 32\n",
            "batch:138 and number of points are 32\n",
            "batch:139 and number of points are 32\n",
            "batch:140 and number of points are 32\n",
            "batch:141 and number of points are 32\n",
            "batch:142 and number of points are 32\n",
            "batch:143 and number of points are 32\n",
            "batch:144 and number of points are 32\n",
            "batch:145 and number of points are 32\n",
            "batch:146 and number of points are 32\n",
            "batch:147 and number of points are 32\n",
            "batch:148 and number of points are 32\n",
            "batch:149 and number of points are 32\n",
            "batch:150 and number of points are 32\n",
            "batch:151 and number of points are 32\n",
            "batch:152 and number of points are 32\n",
            "batch:153 and number of points are 32\n",
            "batch:154 and number of points are 32\n",
            "batch:155 and number of points are 32\n",
            "batch:156 and number of points are 32\n",
            "batch:157 and number of points are 32\n",
            "batch:158 and number of points are 32\n",
            "batch:159 and number of points are 32\n",
            "batch:160 and number of points are 32\n",
            "batch:161 and number of points are 32\n",
            "batch:162 and number of points are 32\n",
            "batch:163 and number of points are 32\n",
            "batch:164 and number of points are 32\n",
            "batch:165 and number of points are 32\n",
            "batch:166 and number of points are 32\n",
            "batch:167 and number of points are 32\n",
            "batch:168 and number of points are 32\n",
            "batch:169 and number of points are 32\n",
            "batch:170 and number of points are 32\n",
            "batch:171 and number of points are 32\n",
            "batch:172 and number of points are 32\n",
            "batch:173 and number of points are 32\n",
            "batch:174 and number of points are 32\n",
            "batch:175 and number of points are 32\n",
            "batch:176 and number of points are 32\n",
            "batch:177 and number of points are 32\n",
            "batch:178 and number of points are 32\n",
            "batch:179 and number of points are 32\n",
            "batch:180 and number of points are 32\n",
            "batch:181 and number of points are 32\n",
            "batch:182 and number of points are 32\n",
            "batch:183 and number of points are 32\n",
            "batch:184 and number of points are 32\n",
            "batch:185 and number of points are 32\n",
            "batch:186 and number of points are 32\n",
            "batch:187 and number of points are 32\n",
            "batch:188 and number of points are 32\n",
            "batch:189 and number of points are 32\n",
            "batch:190 and number of points are 32\n",
            "batch:191 and number of points are 32\n",
            "batch:192 and number of points are 32\n",
            "batch:193 and number of points are 32\n",
            "batch:194 and number of points are 32\n",
            "batch:195 and number of points are 32\n",
            "batch:196 and number of points are 32\n",
            "batch:197 and number of points are 32\n",
            "batch:198 and number of points are 32\n",
            "batch:199 and number of points are 32\n",
            "batch:200 and number of points are 32\n",
            "batch:201 and number of points are 32\n",
            "batch:202 and number of points are 32\n",
            "batch:203 and number of points are 32\n",
            "batch:204 and number of points are 32\n",
            "batch:205 and number of points are 32\n",
            "batch:206 and number of points are 32\n",
            "batch:207 and number of points are 32\n",
            "batch:208 and number of points are 32\n",
            "batch:209 and number of points are 32\n",
            "batch:210 and number of points are 32\n",
            "batch:211 and number of points are 32\n",
            "batch:212 and number of points are 32\n",
            "batch:213 and number of points are 32\n",
            "batch:214 and number of points are 32\n",
            "batch:215 and number of points are 32\n",
            "batch:216 and number of points are 32\n",
            "batch:217 and number of points are 32\n",
            "batch:218 and number of points are 32\n",
            "batch:219 and number of points are 32\n",
            "batch:220 and number of points are 32\n",
            "batch:221 and number of points are 32\n",
            "batch:222 and number of points are 32\n",
            "batch:223 and number of points are 32\n",
            "batch:224 and number of points are 32\n",
            "batch:225 and number of points are 32\n",
            "batch:226 and number of points are 32\n",
            "batch:227 and number of points are 32\n",
            "batch:228 and number of points are 32\n",
            "batch:229 and number of points are 32\n",
            "batch:230 and number of points are 32\n",
            "batch:231 and number of points are 32\n",
            "batch:232 and number of points are 32\n",
            "batch:233 and number of points are 32\n",
            "batch:234 and number of points are 32\n",
            "batch:235 and number of points are 32\n",
            "batch:236 and number of points are 32\n",
            "batch:237 and number of points are 32\n",
            "batch:238 and number of points are 32\n",
            "batch:239 and number of points are 32\n",
            "batch:240 and number of points are 32\n",
            "batch:241 and number of points are 32\n",
            "batch:242 and number of points are 32\n",
            "batch:243 and number of points are 32\n",
            "batch:244 and number of points are 32\n",
            "batch:245 and number of points are 32\n",
            "batch:246 and number of points are 32\n",
            "batch:247 and number of points are 32\n",
            "batch:248 and number of points are 32\n",
            "batch:249 and number of points are 32\n",
            "batch:250 and number of points are 32\n",
            "batch:251 and number of points are 32\n",
            "batch:252 and number of points are 32\n",
            "batch:253 and number of points are 32\n",
            "batch:254 and number of points are 32\n",
            "batch:255 and number of points are 32\n",
            "batch:256 and number of points are 32\n",
            "batch:257 and number of points are 32\n",
            "batch:258 and number of points are 32\n",
            "batch:259 and number of points are 32\n",
            "batch:260 and number of points are 32\n",
            "batch:261 and number of points are 32\n",
            "batch:262 and number of points are 32\n",
            "batch:263 and number of points are 32\n",
            "batch:264 and number of points are 32\n",
            "batch:265 and number of points are 32\n",
            "batch:266 and number of points are 32\n",
            "batch:267 and number of points are 32\n",
            "batch:268 and number of points are 32\n",
            "batch:269 and number of points are 32\n",
            "batch:270 and number of points are 32\n",
            "batch:271 and number of points are 32\n",
            "batch:272 and number of points are 32\n",
            "batch:273 and number of points are 32\n",
            "batch:274 and number of points are 32\n",
            "batch:275 and number of points are 32\n",
            "batch:276 and number of points are 32\n",
            "batch:277 and number of points are 32\n",
            "batch:278 and number of points are 32\n",
            "batch:279 and number of points are 32\n",
            "batch:280 and number of points are 32\n",
            "batch:281 and number of points are 32\n",
            "batch:282 and number of points are 32\n",
            "batch:283 and number of points are 32\n",
            "batch:284 and number of points are 32\n",
            "batch:285 and number of points are 32\n",
            "batch:286 and number of points are 32\n",
            "batch:287 and number of points are 32\n",
            "batch:288 and number of points are 32\n",
            "batch:289 and number of points are 32\n",
            "batch:290 and number of points are 32\n",
            "batch:291 and number of points are 32\n",
            "batch:292 and number of points are 32\n",
            "batch:293 and number of points are 32\n",
            "batch:294 and number of points are 32\n",
            "batch:295 and number of points are 32\n",
            "batch:296 and number of points are 32\n",
            "batch:297 and number of points are 32\n",
            "batch:298 and number of points are 32\n",
            "batch:299 and number of points are 32\n",
            "batch:300 and number of points are 32\n",
            "batch:301 and number of points are 32\n",
            "batch:302 and number of points are 32\n",
            "batch:303 and number of points are 32\n",
            "batch:304 and number of points are 32\n",
            "batch:305 and number of points are 32\n",
            "batch:306 and number of points are 32\n",
            "batch:307 and number of points are 32\n",
            "batch:308 and number of points are 32\n",
            "batch:309 and number of points are 32\n",
            "batch:310 and number of points are 32\n",
            "batch:311 and number of points are 32\n",
            "batch:312 and number of points are 32\n",
            "batch:313 and number of points are 16\n"
          ]
        }
      ]
    },
    {
      "cell_type": "code",
      "source": [
        "train_features_batch, train_labels_batch = next(iter(training_dataloader))\n",
        "train_features_batch.shape, train_labels_batch.shape"
      ],
      "metadata": {
        "colab": {
          "base_uri": "https://localhost:8080/"
        },
        "id": "mEcoKQ6ZiYTV",
        "outputId": "198f7ddf-51df-44b8-e33d-0720405f2f0b"
      },
      "execution_count": 21,
      "outputs": [
        {
          "output_type": "execute_result",
          "data": {
            "text/plain": [
              "(torch.Size([32, 1, 28, 28]), torch.Size([32]))"
            ]
          },
          "metadata": {},
          "execution_count": 21
        }
      ]
    },
    {
      "cell_type": "markdown",
      "source": [
        "# Digression"
      ],
      "metadata": {
        "id": "b0JBjpyRjSm2"
      }
    },
    {
      "cell_type": "code",
      "source": [
        "flatten_layer = nn.Flatten()\n",
        "random_tensor = torch.rand((32, 1, 28, 28))\n",
        "flatten_layer(random_tensor).shape\n"
      ],
      "metadata": {
        "colab": {
          "base_uri": "https://localhost:8080/"
        },
        "id": "thjkqiWKjTuO",
        "outputId": "5c5c0915-d375-4840-f720-6da766f41246"
      },
      "execution_count": 22,
      "outputs": [
        {
          "output_type": "execute_result",
          "data": {
            "text/plain": [
              "torch.Size([32, 784])"
            ]
          },
          "metadata": {},
          "execution_count": 22
        }
      ]
    },
    {
      "cell_type": "markdown",
      "source": [
        "# Create our neural network"
      ],
      "metadata": {
        "id": "eW45087cj1hD"
      }
    },
    {
      "cell_type": "code",
      "source": [
        "class FashionNN(nn.Module):\n",
        "  def __init__(self, in_features, out_features, hidden_layer=20):\n",
        "    super().__init__()\n",
        "    self.layer = nn.Sequential(\n",
        "                              nn.Flatten(),\n",
        "                              nn.Linear(in_features=in_features, out_features=hidden_layer),\n",
        "                               nn.ReLU(),\n",
        "                               nn.Linear(in_features=hidden_layer, out_features=out_features),\n",
        "                               )\n",
        "\n",
        "  def forward(self, x):\n",
        "    return self.layer(x)\n",
        "\n",
        "\n",
        "model = FashionNN(28*28, len(class_names))\n",
        "# model.state_dict()"
      ],
      "metadata": {
        "id": "ilOOScCjkiLm"
      },
      "execution_count": 34,
      "outputs": []
    },
    {
      "cell_type": "code",
      "source": [
        "random_tensor = torch.rand((32, 784))\n",
        "print(f\"input tensor shape is {random_tensor.shape}\")\n",
        "print(f\"output tensor shape is {model(random_tensor).shape}\")"
      ],
      "metadata": {
        "id": "ypo6MJSRkmYH"
      },
      "execution_count": null,
      "outputs": []
    },
    {
      "cell_type": "code",
      "source": [
        "random_tensor = torch.rand((32, 1, 28, 28))\n",
        "print(f\"input tensor shape is {random_tensor.shape}\")\n",
        "print(f\"output tensor shape is {model(random_tensor).shape}\")"
      ],
      "metadata": {
        "colab": {
          "base_uri": "https://localhost:8080/"
        },
        "id": "4rR8WW1WlR_-",
        "outputId": "dad9ceaa-1230-40a8-e579-a4562af5057f"
      },
      "execution_count": 29,
      "outputs": [
        {
          "output_type": "stream",
          "name": "stdout",
          "text": [
            "input tensor shape is torch.Size([32, 1, 28, 28])\n",
            "output tensor shape is torch.Size([32, 10])\n"
          ]
        }
      ]
    },
    {
      "cell_type": "markdown",
      "source": [
        "# Loss function and optimizer"
      ],
      "metadata": {
        "id": "2F-s_sKDl1y2"
      }
    },
    {
      "cell_type": "code",
      "source": [
        "loss_fn = nn.CrossEntropyLoss()\n",
        "optimizer = torch.optim.Adam(model.parameters(), lr=0.0001)"
      ],
      "metadata": {
        "id": "Zigd2lpsl3--"
      },
      "execution_count": 35,
      "outputs": []
    },
    {
      "cell_type": "markdown",
      "source": [
        "# Utility functions"
      ],
      "metadata": {
        "id": "AtKvinPKmGum"
      }
    },
    {
      "cell_type": "code",
      "source": [
        "def acc_fn(y_true, y_pred):\n",
        "  correct = torch.eq(y_true, y_pred).sum().item()\n",
        "  acc = (correct/ len(y_true))*100.0\n",
        "  return acc\n",
        "\n",
        "def train_step(model, training_dataloader, loss_fn, optimizer, device):\n",
        "  train_loss = 0\n",
        "  train_acc = 0\n",
        "  model.train()\n",
        "  for batch_idx, item in enumerate(training_dataloader):\n",
        "    X_batch, y_batch = item\n",
        "    X_batch = X_batch.to(device)\n",
        "    y_batch = y_batch.to(device)\n",
        "    model.to(device)\n",
        "    logits = model(X_batch)\n",
        "    training_loss = loss_fn(logits, y_batch)\n",
        "    train_loss += training_loss\n",
        "    y_preds = torch.softmax(logits, dim=1).argmax(dim=1)\n",
        "    training_acc = acc_fn(y_batch, y_preds)\n",
        "    train_acc+=training_acc\n",
        "    optimizer.zero_grad()\n",
        "    training_loss.backward()\n",
        "    optimizer.step()\n",
        "  print(f\"My training loss: {train_loss/len(training_dataloader)} Training acc:{train_acc/len(training_dataloader)}\")\n",
        "\n",
        "\n",
        "def test_step(model, testing_dataloader, loss_fn, device):\n",
        "  test_loss = 0\n",
        "  test_acc  = 0\n",
        "  model.eval()\n",
        "  with torch.no_grad():\n",
        "    for batch_idx, item in enumerate(testing_dataloader):\n",
        "      X_batch, y_batch = item\n",
        "      X_batch = X_batch.to(device)\n",
        "      y_batch = y_batch.to(device)\n",
        "      model.to(device)\n",
        "      logits = model(X_batch)\n",
        "      testing_loss = loss_fn(logits, y_batch)\n",
        "      test_loss += testing_loss\n",
        "      y_preds = torch.softmax(logits, dim=1).argmax(dim=1)\n",
        "      testing_acc = acc_fn(y_batch, y_preds)\n",
        "      test_acc+=testing_acc\n",
        "  print(f\"My testing loss: {test_loss/len(testing_dataloader)} Training acc:{test_acc/len(testing_dataloader)}\")"
      ],
      "metadata": {
        "id": "tIiaw_1dmIte"
      },
      "execution_count": 36,
      "outputs": []
    },
    {
      "cell_type": "code",
      "source": [
        "device = \"cuda\" if torch.cuda.is_available() else \"cpu\"\n",
        "print(device)"
      ],
      "metadata": {
        "colab": {
          "base_uri": "https://localhost:8080/"
        },
        "id": "Jg2JTiAknJyw",
        "outputId": "ef00b977-e94a-4db3-9505-9edf7e9fbc96"
      },
      "execution_count": 37,
      "outputs": [
        {
          "output_type": "stream",
          "name": "stdout",
          "text": [
            "cpu\n"
          ]
        }
      ]
    },
    {
      "cell_type": "code",
      "source": [
        "from tqdm.auto import tqdm\n",
        "epochs = 50\n",
        "for epoch in tqdm(range(epochs)):\n",
        "  print(f\"My epoch {epoch}\\n-----------\")\n",
        "  train_step(model, training_dataloader, loss_fn, optimizer, device)\n",
        "  test_step(model, testing_dataloader, loss_fn, device)\n",
        "  print(\"\\n\\n\")"
      ],
      "metadata": {
        "colab": {
          "base_uri": "https://localhost:8080/",
          "height": 1000,
          "referenced_widgets": [
            "c4b97024f43549b397f57a16433607ae",
            "6ae8cf2cafd547b6a21820fe1cbb9bcd",
            "3859099f14824eea87450b3fd0680cb6",
            "e4579ba887444e61af97221e966ce145",
            "16970128efa0485dbfb5953b0f6010f7",
            "933ab6ce65a0485991db4623265b5c1f",
            "76a70c64b2f3413c9715c87fc1fd1948",
            "9334979b30a94d499ad092eb4ff5f16e",
            "83cc2207b3784107b5c72de33c26e00f",
            "850a5159e40c419695de979efeda2622",
            "79760c7208a84dac9c175608b2f8e4fa"
          ]
        },
        "id": "yy_71kCdnHqg",
        "outputId": "b21fdc52-9985-4d9f-bc6a-8654df61edb2"
      },
      "execution_count": 38,
      "outputs": [
        {
          "output_type": "display_data",
          "data": {
            "text/plain": [
              "  0%|          | 0/50 [00:00<?, ?it/s]"
            ],
            "application/vnd.jupyter.widget-view+json": {
              "version_major": 2,
              "version_minor": 0,
              "model_id": "c4b97024f43549b397f57a16433607ae"
            }
          },
          "metadata": {}
        },
        {
          "output_type": "stream",
          "name": "stdout",
          "text": [
            "My epoch 0\n",
            "-----------\n",
            "My training loss: 1.06486976146698 Training acc:67.28\n",
            "My testing loss: 0.7124236226081848 Training acc:76.43769968051119\n",
            "\n",
            "\n",
            "\n",
            "My epoch 1\n",
            "-----------\n",
            "My training loss: 0.6281040906906128 Training acc:79.36333333333333\n",
            "My testing loss: 0.6030067205429077 Training acc:79.56269968051119\n",
            "\n",
            "\n",
            "\n",
            "My epoch 2\n",
            "-----------\n",
            "My training loss: 0.5509440302848816 Training acc:81.64666666666666\n",
            "My testing loss: 0.549794614315033 Training acc:81.25\n",
            "\n",
            "\n",
            "\n",
            "My epoch 3\n",
            "-----------\n",
            "My training loss: 0.5127771496772766 Training acc:82.72833333333334\n",
            "My testing loss: 0.5227323770523071 Training acc:82.01876996805112\n",
            "\n",
            "\n",
            "\n",
            "My epoch 4\n",
            "-----------\n",
            "My training loss: 0.4889063835144043 Training acc:83.38\n",
            "My testing loss: 0.5068756937980652 Training acc:82.47803514376997\n",
            "\n",
            "\n",
            "\n",
            "My epoch 5\n",
            "-----------\n",
            "My training loss: 0.4729089140892029 Training acc:83.90333333333334\n",
            "My testing loss: 0.4929259717464447 Training acc:82.86741214057508\n",
            "\n",
            "\n",
            "\n",
            "My epoch 6\n",
            "-----------\n",
            "My training loss: 0.4605744481086731 Training acc:84.335\n",
            "My testing loss: 0.48762065172195435 Training acc:82.74760383386581\n",
            "\n",
            "\n",
            "\n",
            "My epoch 7\n",
            "-----------\n",
            "My training loss: 0.45113882422447205 Training acc:84.55666666666667\n",
            "My testing loss: 0.4785071015357971 Training acc:83.37659744408946\n",
            "\n",
            "\n",
            "\n",
            "My epoch 8\n",
            "-----------\n",
            "My training loss: 0.4432086646556854 Training acc:84.77833333333334\n",
            "My testing loss: 0.4708942770957947 Training acc:83.35662939297124\n",
            "\n",
            "\n",
            "\n",
            "My epoch 9\n",
            "-----------\n",
            "My training loss: 0.4369831383228302 Training acc:85.00833333333334\n",
            "My testing loss: 0.46489137411117554 Training acc:83.8158945686901\n",
            "\n",
            "\n",
            "\n",
            "My epoch 10\n",
            "-----------\n",
            "My training loss: 0.4321046769618988 Training acc:85.165\n",
            "My testing loss: 0.4610825777053833 Training acc:83.60623003194888\n",
            "\n",
            "\n",
            "\n",
            "My epoch 11\n",
            "-----------\n",
            "My training loss: 0.42636218667030334 Training acc:85.33166666666666\n",
            "My testing loss: 0.46129941940307617 Training acc:83.8158945686901\n",
            "\n",
            "\n",
            "\n",
            "My epoch 12\n",
            "-----------\n",
            "My training loss: 0.4222712218761444 Training acc:85.49333333333334\n",
            "My testing loss: 0.4566217362880707 Training acc:83.8258785942492\n",
            "\n",
            "\n",
            "\n",
            "My epoch 13\n",
            "-----------\n",
            "My training loss: 0.41886380314826965 Training acc:85.555\n",
            "My testing loss: 0.4524499475955963 Training acc:84.04552715654953\n",
            "\n",
            "\n",
            "\n",
            "My epoch 14\n",
            "-----------\n",
            "My training loss: 0.4155210554599762 Training acc:85.73166666666667\n",
            "My testing loss: 0.4521717429161072 Training acc:84.185303514377\n",
            "\n",
            "\n",
            "\n",
            "My epoch 15\n",
            "-----------\n",
            "My training loss: 0.41254135966300964 Training acc:85.76666666666667\n",
            "My testing loss: 0.44694972038269043 Training acc:84.28514376996804\n",
            "\n",
            "\n",
            "\n",
            "My epoch 16\n",
            "-----------\n",
            "My training loss: 0.4093169867992401 Training acc:85.915\n",
            "My testing loss: 0.446774959564209 Training acc:84.16533546325878\n",
            "\n",
            "\n",
            "\n",
            "My epoch 17\n",
            "-----------\n",
            "My training loss: 0.40683141350746155 Training acc:85.95\n",
            "My testing loss: 0.4448947608470917 Training acc:84.41493610223642\n",
            "\n",
            "\n",
            "\n",
            "My epoch 18\n",
            "-----------\n",
            "My training loss: 0.4043261706829071 Training acc:86.01666666666667\n",
            "My testing loss: 0.4432362914085388 Training acc:84.57468051118211\n",
            "\n",
            "\n",
            "\n",
            "My epoch 19\n",
            "-----------\n",
            "My training loss: 0.4020765423774719 Training acc:86.13166666666666\n",
            "My testing loss: 0.4425748884677887 Training acc:84.32507987220447\n",
            "\n",
            "\n",
            "\n",
            "My epoch 20\n",
            "-----------\n",
            "My training loss: 0.3998216390609741 Training acc:86.18166666666667\n",
            "My testing loss: 0.4425062835216522 Training acc:84.41493610223642\n",
            "\n",
            "\n",
            "\n",
            "My epoch 21\n",
            "-----------\n",
            "My training loss: 0.39761266112327576 Training acc:86.25833333333334\n",
            "My testing loss: 0.43664276599884033 Training acc:84.754392971246\n",
            "\n",
            "\n",
            "\n",
            "My epoch 22\n",
            "-----------\n",
            "My training loss: 0.3957118093967438 Training acc:86.25333333333333\n",
            "My testing loss: 0.43365171551704407 Training acc:84.82428115015975\n",
            "\n",
            "\n",
            "\n",
            "My epoch 23\n",
            "-----------\n",
            "My training loss: 0.3935997188091278 Training acc:86.375\n",
            "My testing loss: 0.43407121300697327 Training acc:84.64456869009585\n",
            "\n",
            "\n",
            "\n",
            "My epoch 24\n",
            "-----------\n",
            "My training loss: 0.39162328839302063 Training acc:86.415\n",
            "My testing loss: 0.4328741431236267 Training acc:84.76437699680511\n",
            "\n",
            "\n",
            "\n",
            "My epoch 25\n",
            "-----------\n",
            "My training loss: 0.38959380984306335 Training acc:86.38166666666666\n",
            "My testing loss: 0.43196046352386475 Training acc:84.80431309904154\n",
            "\n",
            "\n",
            "\n",
            "My epoch 26\n",
            "-----------\n",
            "My training loss: 0.38788771629333496 Training acc:86.565\n",
            "My testing loss: 0.43124890327453613 Training acc:84.99400958466454\n",
            "\n",
            "\n",
            "\n",
            "My epoch 27\n",
            "-----------\n",
            "My training loss: 0.3861443102359772 Training acc:86.60333333333334\n",
            "My testing loss: 0.4296397864818573 Training acc:84.72444089456869\n",
            "\n",
            "\n",
            "\n",
            "My epoch 28\n",
            "-----------\n",
            "My training loss: 0.3839292824268341 Training acc:86.63333333333334\n",
            "My testing loss: 0.427769273519516 Training acc:84.86421725239616\n",
            "\n",
            "\n",
            "\n",
            "My epoch 29\n",
            "-----------\n",
            "My training loss: 0.38263997435569763 Training acc:86.76333333333334\n",
            "My testing loss: 0.42704421281814575 Training acc:85.04392971246007\n",
            "\n",
            "\n",
            "\n",
            "My epoch 30\n",
            "-----------\n",
            "My training loss: 0.3808547556400299 Training acc:86.715\n",
            "My testing loss: 0.42498505115509033 Training acc:85.1138178913738\n",
            "\n",
            "\n",
            "\n",
            "My epoch 31\n",
            "-----------\n",
            "My training loss: 0.37915748357772827 Training acc:86.78666666666666\n",
            "My testing loss: 0.4215922951698303 Training acc:85.20367412140575\n",
            "\n",
            "\n",
            "\n",
            "My epoch 32\n",
            "-----------\n",
            "My training loss: 0.37728118896484375 Training acc:86.93\n",
            "My testing loss: 0.4224168062210083 Training acc:85.00399361022365\n",
            "\n",
            "\n",
            "\n",
            "My epoch 33\n",
            "-----------\n",
            "My training loss: 0.3757239878177643 Training acc:86.87166666666667\n",
            "My testing loss: 0.4197137653827667 Training acc:85.23362619808307\n",
            "\n",
            "\n",
            "\n",
            "My epoch 34\n",
            "-----------\n",
            "My training loss: 0.37400877475738525 Training acc:86.89833333333333\n",
            "My testing loss: 0.4219421148300171 Training acc:85.10383386581469\n",
            "\n",
            "\n",
            "\n",
            "My epoch 35\n",
            "-----------\n",
            "My training loss: 0.3725370168685913 Training acc:86.915\n",
            "My testing loss: 0.4183000922203064 Training acc:85.31349840255591\n",
            "\n",
            "\n",
            "\n",
            "My epoch 36\n",
            "-----------\n",
            "My training loss: 0.3713572323322296 Training acc:87.04\n",
            "My testing loss: 0.4189644753932953 Training acc:85.22364217252397\n",
            "\n",
            "\n",
            "\n",
            "My epoch 37\n",
            "-----------\n",
            "My training loss: 0.3693370521068573 Training acc:87.09166666666667\n",
            "My testing loss: 0.4165897071361542 Training acc:85.41333865814697\n",
            "\n",
            "\n",
            "\n",
            "My epoch 38\n",
            "-----------\n",
            "My training loss: 0.36784830689430237 Training acc:87.07166666666667\n",
            "My testing loss: 0.41402745246887207 Training acc:85.47324281150159\n",
            "\n",
            "\n",
            "\n",
            "My epoch 39\n",
            "-----------\n",
            "My training loss: 0.3662565350532532 Training acc:87.22166666666666\n",
            "My testing loss: 0.4144479036331177 Training acc:85.40335463258786\n",
            "\n",
            "\n",
            "\n",
            "My epoch 40\n",
            "-----------\n",
            "My training loss: 0.365116149187088 Training acc:87.165\n",
            "My testing loss: 0.4149339497089386 Training acc:85.40335463258786\n",
            "\n",
            "\n",
            "\n",
            "My epoch 41\n",
            "-----------\n",
            "My training loss: 0.36322805285453796 Training acc:87.20666666666666\n",
            "My testing loss: 0.4137739837169647 Training acc:85.50319488817891\n",
            "\n",
            "\n",
            "\n",
            "My epoch 42\n",
            "-----------\n",
            "My training loss: 0.362221360206604 Training acc:87.29\n",
            "My testing loss: 0.4125562608242035 Training acc:85.37340255591054\n",
            "\n",
            "\n",
            "\n",
            "My epoch 43\n",
            "-----------\n",
            "My training loss: 0.3610801696777344 Training acc:87.33\n",
            "My testing loss: 0.41473978757858276 Training acc:85.36341853035144\n",
            "\n",
            "\n",
            "\n",
            "My epoch 44\n",
            "-----------\n",
            "My training loss: 0.3594802916049957 Training acc:87.395\n",
            "My testing loss: 0.4108850657939911 Training acc:85.4932108626198\n",
            "\n",
            "\n",
            "\n",
            "My epoch 45\n",
            "-----------\n",
            "My training loss: 0.3584948182106018 Training acc:87.44333333333333\n",
            "My testing loss: 0.40967634320259094 Training acc:85.72284345047923\n",
            "\n",
            "\n",
            "\n",
            "My epoch 46\n",
            "-----------\n",
            "My training loss: 0.35704293847084045 Training acc:87.385\n",
            "My testing loss: 0.4141426086425781 Training acc:85.2935303514377\n",
            "\n",
            "\n",
            "\n",
            "My epoch 47\n",
            "-----------\n",
            "My training loss: 0.3558077812194824 Training acc:87.44\n",
            "My testing loss: 0.4075288474559784 Training acc:85.4932108626198\n",
            "\n",
            "\n",
            "\n",
            "My epoch 48\n",
            "-----------\n",
            "My training loss: 0.35508039593696594 Training acc:87.52166666666666\n",
            "My testing loss: 0.4087012708187103 Training acc:85.46325878594249\n",
            "\n",
            "\n",
            "\n",
            "My epoch 49\n",
            "-----------\n",
            "My training loss: 0.35332438349723816 Training acc:87.595\n",
            "My testing loss: 0.40850886702537537 Training acc:85.65295527156549\n",
            "\n",
            "\n",
            "\n"
          ]
        }
      ]
    },
    {
      "cell_type": "code",
      "source": [
        "torch.save(model.state_dict(), 'model.pth')"
      ],
      "metadata": {
        "id": "fLSMxvXE9dfC"
      },
      "execution_count": 39,
      "outputs": []
    }
  ]
}